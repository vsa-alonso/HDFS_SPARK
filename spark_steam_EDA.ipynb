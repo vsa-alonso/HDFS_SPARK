{
 "cells": [
  {
   "cell_type": "code",
   "execution_count": 37,
   "metadata": {},
   "outputs": [],
   "source": [
    "spark.conf.set(\"spark.sql.repl.eagerEval.enabled\",True)"
   ]
  },
  {
   "cell_type": "code",
   "execution_count": 175,
   "metadata": {},
   "outputs": [],
   "source": [
    "from pyspark.sql import HiveContext\n",
    "from pyspark.sql.functions import col, max, desc, first, sum, isnull\n",
    "import matplotlib.pyplot as plt"
   ]
  },
  {
   "cell_type": "code",
   "execution_count": 2,
   "metadata": {},
   "outputs": [],
   "source": [
    "sqlContext = HiveContext(sc)"
   ]
  },
  {
   "cell_type": "code",
   "execution_count": 3,
   "metadata": {},
   "outputs": [
    {
     "name": "stdout",
     "output_type": "stream",
     "text": [
      "+------------+\n",
      "|databaseName|\n",
      "+------------+\n",
      "|     default|\n",
      "+------------+\n",
      "\n"
     ]
    }
   ],
   "source": [
    "sqlContext.sql(\"show databases\").show()"
   ]
  },
  {
   "cell_type": "code",
   "execution_count": 49,
   "metadata": {},
   "outputs": [
    {
     "data": {
      "text/html": [
       "<table border='1'>\n",
       "<tr><th>developer</th><th>active</th><th>city</th><th>autonomous_area</th><th>country</th><th>est</th><th>notable_games_series_or_franchises</th><th>notes</th></tr>\n",
       "<tr><td>0verflow</td><td>1</td><td>Tokyo</td><td>null</td><td>Japan</td><td>1997</td><td>School DaysSummer...</td><td>Visual Novel bran...</td></tr>\n",
       "<tr><td>11 bit studios</td><td>1</td><td>Warsaw</td><td>null</td><td>Poland</td><td>2010</td><td>Frostpunk</td><td>Indie developer/p...</td></tr>\n",
       "<tr><td>1C Company</td><td>1</td><td>Moscow</td><td>null</td><td>Russia</td><td>1991</td><td>King's Bounty: Wa...</td><td>Game localization...</td></tr>\n",
       "<tr><td>1-Up Studio</td><td>1</td><td>Tokyo</td><td>null</td><td>Japan</td><td>2000</td><td>Mother 3</td><td>Subsidiary of Nin...</td></tr>\n",
       "<tr><td>2K Czech</td><td>0</td><td>Brno</td><td>null</td><td>Czech Republic</td><td>1997</td><td>MafiaMafia II</td><td>Former subsidiary...</td></tr>\n",
       "</table>\n"
      ],
      "text/plain": [
       "+--------------+------+------+---------------+--------------+----+----------------------------------+--------------------+\n",
       "|     developer|active|  city|autonomous_area|       country| est|notable_games_series_or_franchises|               notes|\n",
       "+--------------+------+------+---------------+--------------+----+----------------------------------+--------------------+\n",
       "|      0verflow|     1| Tokyo|           null|         Japan|1997|              School DaysSummer...|Visual Novel bran...|\n",
       "|11 bit studios|     1|Warsaw|           null|        Poland|2010|                         Frostpunk|Indie developer/p...|\n",
       "|    1C Company|     1|Moscow|           null|        Russia|1991|              King's Bounty: Wa...|Game localization...|\n",
       "|   1-Up Studio|     1| Tokyo|           null|         Japan|2000|                          Mother 3|Subsidiary of Nin...|\n",
       "|      2K Czech|     0|  Brno|           null|Czech Republic|1997|                     MafiaMafia II|Former subsidiary...|\n",
       "+--------------+------+------+---------------+--------------+----+----------------------------------+--------------------+"
      ]
     },
     "metadata": {},
     "output_type": "display_data"
    }
   ],
   "source": [
    "developer = spark.read.csv(\"/proj_spark/developper/developper.csv\", header = True)\n",
    "display(developer.limit(5))"
   ]
  },
  {
   "cell_type": "code",
   "execution_count": 48,
   "metadata": {},
   "outputs": [
    {
     "data": {
      "text/html": [
       "<table border='1'>\n",
       "<tr><th>initiales</th><th>nom</th><th>manufactureur</th><th>nb_jeu</th><th>sortie_eu</th><th>sortie_usa</th><th>sortir_jp</th><th>gen</th></tr>\n",
       "<tr><td>NES</td><td>Nintendo Entertai...</td><td>Nintendo</td><td>715</td><td>1987-10-27</td><td>1985-10-18</td><td>1983-07-15</td><td>3</td></tr>\n",
       "<tr><td>SNES</td><td>Super Nintendo En...</td><td>Nintendo</td><td>1757</td><td>1992-06-06</td><td>1991-08-23</td><td>1990-11-21</td><td>4</td></tr>\n",
       "<tr><td>N64</td><td>Nintendo 64</td><td>Nintendo</td><td>388</td><td>1997-03-01</td><td>1996-09-29</td><td>1996-06-23</td><td>5</td></tr>\n",
       "<tr><td>GC</td><td>Nintendo GameCube</td><td>Nintendo</td><td>657</td><td>2001-05-03</td><td>2001-11-18</td><td>2001-09-14</td><td>6</td></tr>\n",
       "<tr><td>Wii</td><td>Wii</td><td>Nintendo</td><td>1541</td><td>2006-12-08</td><td>2006-11-19</td><td>2006-12-02</td><td>7</td></tr>\n",
       "</table>\n"
      ],
      "text/plain": [
       "+---------+--------------------+-------------+------+----------+----------+----------+---+\n",
       "|initiales|                 nom|manufactureur|nb_jeu| sortie_eu|sortie_usa| sortir_jp|gen|\n",
       "+---------+--------------------+-------------+------+----------+----------+----------+---+\n",
       "|      NES|Nintendo Entertai...|     Nintendo|   715|1987-10-27|1985-10-18|1983-07-15|  3|\n",
       "|     SNES|Super Nintendo En...|     Nintendo|  1757|1992-06-06|1991-08-23|1990-11-21|  4|\n",
       "|      N64|         Nintendo 64|     Nintendo|   388|1997-03-01|1996-09-29|1996-06-23|  5|\n",
       "|       GC|   Nintendo GameCube|     Nintendo|   657|2001-05-03|2001-11-18|2001-09-14|  6|\n",
       "|      Wii|                 Wii|     Nintendo|  1541|2006-12-08|2006-11-19|2006-12-02|  7|\n",
       "+---------+--------------------+-------------+------+----------+----------+----------+---+"
      ]
     },
     "metadata": {},
     "output_type": "display_data"
    }
   ],
   "source": [
    "plateform = spark.read.csv(\"/proj_spark/plateform/plateform.csv\", header = True)\n",
    "display(plateform.limit(5))"
   ]
  },
  {
   "cell_type": "code",
   "execution_count": 47,
   "metadata": {},
   "outputs": [
    {
     "data": {
      "text/html": [
       "<table border='1'>\n",
       "<tr><th>publisher</th><th>headquarters</th><th>est</th><th>notable_games_published</th><th>notes</th><th>active</th></tr>\n",
       "<tr><td>07th Expansion</td><td>Japan</td><td>2002</td><td>Higurashi When Th...</td><td>null</td><td>1</td></tr>\n",
       "<tr><td>11 bit studios</td><td>Warsaw , Poland</td><td>2010</td><td>Frostpunk This Wa...</td><td>Also a video game...</td><td>1</td></tr>\n",
       "<tr><td>1C Company</td><td>Moscow, Russia</td><td>1991</td><td>Il-2 seriesMen of...</td><td>Specializes in lo...</td><td>1</td></tr>\n",
       "<tr><td>2K Games</td><td>Novato, Californi...</td><td>2005</td><td>null</td><td>Also a video game...</td><td>1</td></tr>\n",
       "<tr><td>3D Realms</td><td>Garland, Texas, U...</td><td>1987</td><td>Duke Nukem series</td><td>Also a video game...</td><td>1</td></tr>\n",
       "</table>\n"
      ],
      "text/plain": [
       "+--------------+--------------------+----+-----------------------+--------------------+------+\n",
       "|     publisher|        headquarters| est|notable_games_published|               notes|active|\n",
       "+--------------+--------------------+----+-----------------------+--------------------+------+\n",
       "|07th Expansion|               Japan|2002|   Higurashi When Th...|                null|     1|\n",
       "|11 bit studios|     Warsaw , Poland|2010|   Frostpunk This Wa...|Also a video game...|     1|\n",
       "|    1C Company|      Moscow, Russia|1991|   Il-2 seriesMen of...|Specializes in lo...|     1|\n",
       "|      2K Games|Novato, Californi...|2005|                   null|Also a video game...|     1|\n",
       "|     3D Realms|Garland, Texas, U...|1987|      Duke Nukem series|Also a video game...|     1|\n",
       "+--------------+--------------------+----+-----------------------+--------------------+------+"
      ]
     },
     "metadata": {},
     "output_type": "display_data"
    }
   ],
   "source": [
    "publisher = spark.read.csv(\"/proj_spark/publisher/publisher.csv\", header = True)\n",
    "display(publisher.limit(5))"
   ]
  },
  {
   "cell_type": "code",
   "execution_count": 190,
   "metadata": {},
   "outputs": [
    {
     "data": {
      "text/html": [
       "<table border='1'>\n",
       "<tr><th>name</th><th>platform</th><th>year_of_release</th><th>genre</th><th>publisher</th><th>na_sales</th><th>eu_sales</th><th>jp_sales</th><th>other_sales</th><th>global_sales</th><th>critic_score</th><th>critic_count</th><th>user_score</th><th>user_count</th><th>developer</th><th>rating</th></tr>\n",
       "<tr><td>Wii Sports</td><td>Wii</td><td>2006</td><td>Sports</td><td>Nintendo</td><td>41.36</td><td>28.96</td><td>3.77</td><td>8.45</td><td>82.53</td><td>76</td><td>51</td><td>8</td><td>322</td><td>Nintendo</td><td>E</td></tr>\n",
       "<tr><td>Super Mario Bros.</td><td>NES</td><td>1985</td><td>Platform</td><td>Nintendo</td><td>29.08</td><td>3.58</td><td>6.81</td><td>0.77</td><td>40.24</td><td>null</td><td>null</td><td>null</td><td>null</td><td>null</td><td>null</td></tr>\n",
       "<tr><td>Mario Kart Wii</td><td>Wii</td><td>2008</td><td>Racing</td><td>Nintendo</td><td>15.68</td><td>12.76</td><td>3.79</td><td>3.29</td><td>35.52</td><td>82</td><td>73</td><td>8.3</td><td>709</td><td>Nintendo</td><td>E</td></tr>\n",
       "<tr><td>Wii Sports Resort</td><td>Wii</td><td>2009</td><td>Sports</td><td>Nintendo</td><td>15.61</td><td>10.93</td><td>3.28</td><td>2.95</td><td>32.77</td><td>80</td><td>73</td><td>8</td><td>192</td><td>Nintendo</td><td>E</td></tr>\n",
       "<tr><td>Pokemon Red/Pokem...</td><td>GB</td><td>1996</td><td>Role-Playing</td><td>Nintendo</td><td>11.27</td><td>8.89</td><td>10.22</td><td>1.0</td><td>31.37</td><td>null</td><td>null</td><td>null</td><td>null</td><td>null</td><td>null</td></tr>\n",
       "</table>\n"
      ],
      "text/plain": [
       "+--------------------+--------+---------------+------------+---------+--------+--------+--------+-----------+------------+------------+------------+----------+----------+---------+------+\n",
       "|                name|platform|year_of_release|       genre|publisher|na_sales|eu_sales|jp_sales|other_sales|global_sales|critic_score|critic_count|user_score|user_count|developer|rating|\n",
       "+--------------------+--------+---------------+------------+---------+--------+--------+--------+-----------+------------+------------+------------+----------+----------+---------+------+\n",
       "|          Wii Sports|     Wii|           2006|      Sports| Nintendo|   41.36|   28.96|    3.77|       8.45|       82.53|          76|          51|         8|       322| Nintendo|     E|\n",
       "|   Super Mario Bros.|     NES|           1985|    Platform| Nintendo|   29.08|    3.58|    6.81|       0.77|       40.24|        null|        null|      null|      null|     null|  null|\n",
       "|      Mario Kart Wii|     Wii|           2008|      Racing| Nintendo|   15.68|   12.76|    3.79|       3.29|       35.52|          82|          73|       8.3|       709| Nintendo|     E|\n",
       "|   Wii Sports Resort|     Wii|           2009|      Sports| Nintendo|   15.61|   10.93|    3.28|       2.95|       32.77|          80|          73|         8|       192| Nintendo|     E|\n",
       "|Pokemon Red/Pokem...|      GB|           1996|Role-Playing| Nintendo|   11.27|    8.89|   10.22|        1.0|       31.37|        null|        null|      null|      null|     null|  null|\n",
       "+--------------------+--------+---------------+------------+---------+--------+--------+--------+-----------+------------+------------+------------+----------+----------+---------+------+"
      ]
     },
     "metadata": {},
     "output_type": "display_data"
    }
   ],
   "source": [
    "vgsales = spark.read.csv(\"/proj_spark/vgsales/vgsales.csv\", header = True).\\\n",
    "                    withColumn('global_sales', col('global_sales').cast('float')).\\\n",
    "                    withColumn('na_sales', col('na_sales').cast('float')).\\\n",
    "                    withColumn('eu_sales', col('eu_sales').cast('float')).\\\n",
    "                    withColumn('jp_sales', col('jp_sales').cast('float')).\\\n",
    "                    withColumn('other_sales', col('other_sales').cast('float'))\n",
    "display(vgsales.limit(5))"
   ]
  },
  {
   "cell_type": "code",
   "execution_count": 53,
   "metadata": {},
   "outputs": [
    {
     "data": {
      "text/html": [
       "<table border='1'>\n",
       "<tr><th>publisher</th><th>headquarters</th><th>est</th><th>notable_games_published</th><th>notes</th><th>active</th></tr>\n",
       "<tr><td>Nintendo</td><td>Kyoto, Japan</td><td>1889</td><td>MarioLegend of Ze...</td><td>Also a video game...</td><td>1</td></tr>\n",
       "</table>\n"
      ],
      "text/plain": [
       "+---------+------------+----+-----------------------+--------------------+------+\n",
       "|publisher|headquarters| est|notable_games_published|               notes|active|\n",
       "+---------+------------+----+-----------------------+--------------------+------+\n",
       "| Nintendo|Kyoto, Japan|1889|   MarioLegend of Ze...|Also a video game...|     1|\n",
       "+---------+------------+----+-----------------------+--------------------+------+"
      ]
     },
     "metadata": {},
     "output_type": "display_data"
    }
   ],
   "source": [
    "display(publisher.filter(publisher.publisher == 'Nintendo'))"
   ]
  },
  {
   "cell_type": "markdown",
   "metadata": {},
   "source": [
    "## Consolidação de todos os DFs"
   ]
  },
  {
   "cell_type": "code",
   "execution_count": 195,
   "metadata": {},
   "outputs": [
    {
     "data": {
      "text/html": [
       "<table border='1'>\n",
       "<tr><th>name</th><th>platform</th><th>year_of_release</th><th>genre</th><th>publisher</th><th>na_sales</th><th>eu_sales</th><th>jp_sales</th><th>other_sales</th><th>global_sales</th><th>critic_score</th><th>critic_count</th><th>user_score</th><th>user_count</th><th>developer</th><th>rating</th><th>publisher</th><th>headquarters</th><th>est</th><th>notable_games_published</th><th>notes</th><th>active</th><th>developer</th><th>active</th><th>city</th><th>autonomous_area</th><th>country</th><th>est</th><th>notable_games_series_or_franchises</th><th>notes</th><th>initiales</th><th>nom</th><th>manufactureur</th><th>nb_jeu</th><th>sortie_eu</th><th>sortie_usa</th><th>sortir_jp</th><th>gen</th></tr>\n",
       "<tr><td>Wii Sports</td><td>Wii</td><td>2006</td><td>Sports</td><td>Nintendo</td><td>41.36</td><td>28.96</td><td>3.77</td><td>8.45</td><td>82.53</td><td>76</td><td>51</td><td>8</td><td>322</td><td>Nintendo</td><td>E</td><td>Nintendo</td><td>Kyoto, Japan</td><td>1889</td><td>MarioLegend of Ze...</td><td>Also a video game...</td><td>1</td><td>Nintendo</td><td>1</td><td>Kyoto</td><td>null</td><td>Japan</td><td>1889</td><td>Super Mario franc...</td><td>First-party devel...</td><td>Wii</td><td>Wii</td><td>Nintendo</td><td>1541</td><td>2006-12-08</td><td>2006-11-19</td><td>2006-12-02</td><td>7</td></tr>\n",
       "<tr><td>Super Mario Bros.</td><td>NES</td><td>1985</td><td>Platform</td><td>Nintendo</td><td>29.08</td><td>3.58</td><td>6.81</td><td>0.77</td><td>40.24</td><td>null</td><td>null</td><td>null</td><td>null</td><td>null</td><td>null</td><td>Nintendo</td><td>Kyoto, Japan</td><td>1889</td><td>MarioLegend of Ze...</td><td>Also a video game...</td><td>1</td><td>null</td><td>null</td><td>null</td><td>null</td><td>null</td><td>null</td><td>null</td><td>null</td><td>NES</td><td>Nintendo Entertai...</td><td>Nintendo</td><td>715</td><td>1987-10-27</td><td>1985-10-18</td><td>1983-07-15</td><td>3</td></tr>\n",
       "<tr><td>Mario Kart Wii</td><td>Wii</td><td>2008</td><td>Racing</td><td>Nintendo</td><td>15.68</td><td>12.76</td><td>3.79</td><td>3.29</td><td>35.52</td><td>82</td><td>73</td><td>8.3</td><td>709</td><td>Nintendo</td><td>E</td><td>Nintendo</td><td>Kyoto, Japan</td><td>1889</td><td>MarioLegend of Ze...</td><td>Also a video game...</td><td>1</td><td>Nintendo</td><td>1</td><td>Kyoto</td><td>null</td><td>Japan</td><td>1889</td><td>Super Mario franc...</td><td>First-party devel...</td><td>Wii</td><td>Wii</td><td>Nintendo</td><td>1541</td><td>2006-12-08</td><td>2006-11-19</td><td>2006-12-02</td><td>7</td></tr>\n",
       "<tr><td>Wii Sports Resort</td><td>Wii</td><td>2009</td><td>Sports</td><td>Nintendo</td><td>15.61</td><td>10.93</td><td>3.28</td><td>2.95</td><td>32.77</td><td>80</td><td>73</td><td>8</td><td>192</td><td>Nintendo</td><td>E</td><td>Nintendo</td><td>Kyoto, Japan</td><td>1889</td><td>MarioLegend of Ze...</td><td>Also a video game...</td><td>1</td><td>Nintendo</td><td>1</td><td>Kyoto</td><td>null</td><td>Japan</td><td>1889</td><td>Super Mario franc...</td><td>First-party devel...</td><td>Wii</td><td>Wii</td><td>Nintendo</td><td>1541</td><td>2006-12-08</td><td>2006-11-19</td><td>2006-12-02</td><td>7</td></tr>\n",
       "<tr><td>Pokemon Red/Pokem...</td><td>GB</td><td>1996</td><td>Role-Playing</td><td>Nintendo</td><td>11.27</td><td>8.89</td><td>10.22</td><td>1.0</td><td>31.37</td><td>null</td><td>null</td><td>null</td><td>null</td><td>null</td><td>null</td><td>Nintendo</td><td>Kyoto, Japan</td><td>1889</td><td>MarioLegend of Ze...</td><td>Also a video game...</td><td>1</td><td>null</td><td>null</td><td>null</td><td>null</td><td>null</td><td>null</td><td>null</td><td>null</td><td>GB</td><td>GameBoy</td><td>Nintendo</td><td>1055</td><td>1989-09-28</td><td>1989-07-31</td><td>1989-04-21</td><td>4</td></tr>\n",
       "</table>\n"
      ],
      "text/plain": [
       "+--------------------+--------+---------------+------------+---------+--------+--------+--------+-----------+------------+------------+------------+----------+----------+---------+------+---------+------------+----+-----------------------+--------------------+------+---------+------+-----+---------------+-------+----+----------------------------------+--------------------+---------+--------------------+-------------+------+----------+----------+----------+---+\n",
       "|                name|platform|year_of_release|       genre|publisher|na_sales|eu_sales|jp_sales|other_sales|global_sales|critic_score|critic_count|user_score|user_count|developer|rating|publisher|headquarters| est|notable_games_published|               notes|active|developer|active| city|autonomous_area|country| est|notable_games_series_or_franchises|               notes|initiales|                 nom|manufactureur|nb_jeu| sortie_eu|sortie_usa| sortir_jp|gen|\n",
       "+--------------------+--------+---------------+------------+---------+--------+--------+--------+-----------+------------+------------+------------+----------+----------+---------+------+---------+------------+----+-----------------------+--------------------+------+---------+------+-----+---------------+-------+----+----------------------------------+--------------------+---------+--------------------+-------------+------+----------+----------+----------+---+\n",
       "|          Wii Sports|     Wii|           2006|      Sports| Nintendo|   41.36|   28.96|    3.77|       8.45|       82.53|          76|          51|         8|       322| Nintendo|     E| Nintendo|Kyoto, Japan|1889|   MarioLegend of Ze...|Also a video game...|     1| Nintendo|     1|Kyoto|           null|  Japan|1889|              Super Mario franc...|First-party devel...|      Wii|                 Wii|     Nintendo|  1541|2006-12-08|2006-11-19|2006-12-02|  7|\n",
       "|   Super Mario Bros.|     NES|           1985|    Platform| Nintendo|   29.08|    3.58|    6.81|       0.77|       40.24|        null|        null|      null|      null|     null|  null| Nintendo|Kyoto, Japan|1889|   MarioLegend of Ze...|Also a video game...|     1|     null|  null| null|           null|   null|null|                              null|                null|      NES|Nintendo Entertai...|     Nintendo|   715|1987-10-27|1985-10-18|1983-07-15|  3|\n",
       "|      Mario Kart Wii|     Wii|           2008|      Racing| Nintendo|   15.68|   12.76|    3.79|       3.29|       35.52|          82|          73|       8.3|       709| Nintendo|     E| Nintendo|Kyoto, Japan|1889|   MarioLegend of Ze...|Also a video game...|     1| Nintendo|     1|Kyoto|           null|  Japan|1889|              Super Mario franc...|First-party devel...|      Wii|                 Wii|     Nintendo|  1541|2006-12-08|2006-11-19|2006-12-02|  7|\n",
       "|   Wii Sports Resort|     Wii|           2009|      Sports| Nintendo|   15.61|   10.93|    3.28|       2.95|       32.77|          80|          73|         8|       192| Nintendo|     E| Nintendo|Kyoto, Japan|1889|   MarioLegend of Ze...|Also a video game...|     1| Nintendo|     1|Kyoto|           null|  Japan|1889|              Super Mario franc...|First-party devel...|      Wii|                 Wii|     Nintendo|  1541|2006-12-08|2006-11-19|2006-12-02|  7|\n",
       "|Pokemon Red/Pokem...|      GB|           1996|Role-Playing| Nintendo|   11.27|    8.89|   10.22|        1.0|       31.37|        null|        null|      null|      null|     null|  null| Nintendo|Kyoto, Japan|1889|   MarioLegend of Ze...|Also a video game...|     1|     null|  null| null|           null|   null|null|                              null|                null|       GB|             GameBoy|     Nintendo|  1055|1989-09-28|1989-07-31|1989-04-21|  4|\n",
       "+--------------------+--------+---------------+------------+---------+--------+--------+--------+-----------+------------+------------+------------+----------+----------+---------+------+---------+------------+----+-----------------------+--------------------+------+---------+------+-----+---------------+-------+----+----------------------------------+--------------------+---------+--------------------+-------------+------+----------+----------+----------+---+"
      ]
     },
     "metadata": {},
     "output_type": "display_data"
    }
   ],
   "source": [
    "df = vgsales.join(publisher, vgsales.publisher == publisher.publisher, \"left\").\\\n",
    "            join(developer, vgsales.developer == developer.developer, \"left\").\\\n",
    "            join(plateform, vgsales.platform == plateform.initiales, \"left\")\n",
    "display(df.limit(5))"
   ]
  },
  {
   "cell_type": "code",
   "execution_count": 196,
   "metadata": {},
   "outputs": [
    {
     "name": "stdout",
     "output_type": "stream",
     "text": [
      "root\n",
      " |-- name: string (nullable = true)\n",
      " |-- platform: string (nullable = true)\n",
      " |-- year_of_release: string (nullable = true)\n",
      " |-- genre: string (nullable = true)\n",
      " |-- publisher: string (nullable = true)\n",
      " |-- na_sales: float (nullable = true)\n",
      " |-- eu_sales: float (nullable = true)\n",
      " |-- jp_sales: float (nullable = true)\n",
      " |-- other_sales: float (nullable = true)\n",
      " |-- global_sales: float (nullable = true)\n",
      " |-- critic_score: string (nullable = true)\n",
      " |-- critic_count: string (nullable = true)\n",
      " |-- user_score: string (nullable = true)\n",
      " |-- user_count: string (nullable = true)\n",
      " |-- developer: string (nullable = true)\n",
      " |-- rating: string (nullable = true)\n",
      " |-- publisher: string (nullable = true)\n",
      " |-- headquarters: string (nullable = true)\n",
      " |-- est: string (nullable = true)\n",
      " |-- notable_games_published: string (nullable = true)\n",
      " |-- notes: string (nullable = true)\n",
      " |-- active: string (nullable = true)\n",
      " |-- developer: string (nullable = true)\n",
      " |-- active: string (nullable = true)\n",
      " |-- city: string (nullable = true)\n",
      " |-- autonomous_area: string (nullable = true)\n",
      " |-- country: string (nullable = true)\n",
      " |-- est: string (nullable = true)\n",
      " |-- notable_games_series_or_franchises: string (nullable = true)\n",
      " |-- notes: string (nullable = true)\n",
      " |-- initiales: string (nullable = true)\n",
      " |-- nom: string (nullable = true)\n",
      " |-- manufactureur: string (nullable = true)\n",
      " |-- nb_jeu: string (nullable = true)\n",
      " |-- sortie_eu: string (nullable = true)\n",
      " |-- sortie_usa: string (nullable = true)\n",
      " |-- sortir_jp: string (nullable = true)\n",
      " |-- gen: string (nullable = true)\n",
      "\n"
     ]
    }
   ],
   "source": [
    "df.printSchema()"
   ]
  },
  {
   "cell_type": "code",
   "execution_count": 65,
   "metadata": {},
   "outputs": [
    {
     "name": "stdout",
     "output_type": "stream",
     "text": [
      "Maximum year of release: 2020\n",
      "Minimum year of release: 1980\n"
     ]
    }
   ],
   "source": [
    "max_year = df.selectExpr('max(year_of_release)').collect()[0][0]\n",
    "min_year = df.selectExpr('min(year_of_release)').collect()[0][0]\n",
    "\n",
    "# print the maximum and minimum years\n",
    "print(\"Maximum year of release:\", max_year)\n",
    "print(\"Minimum year of release:\", min_year)"
   ]
  },
  {
   "cell_type": "code",
   "execution_count": 71,
   "metadata": {},
   "outputs": [
    {
     "name": "stdout",
     "output_type": "stream",
     "text": [
      "+------------------------------------------------+---------------+------------+\n",
      "|name                                            |year_of_release|global_sales|\n",
      "+------------------------------------------------+---------------+------------+\n",
      "|Asteroids                                       |1980           |4.31        |\n",
      "|Pitfall!                                        |1981           |4.5         |\n",
      "|Pac-Man                                         |1982           |7.81        |\n",
      "|Baseball                                        |1983           |3.2         |\n",
      "|Excitebike                                      |1984           |4.16        |\n",
      "|Super Mario Bros.                               |1985           |40.24       |\n",
      "|The Legend of Zelda                             |1986           |6.51        |\n",
      "|Zelda II: The Adventure of Link                 |1987           |4.38        |\n",
      "|Super Mario Bros. 2                             |1988           |7.46        |\n",
      "|Dr. Mario                                       |1989           |5.34        |\n",
      "|Dr. Mario                                       |1990           |4.85        |\n",
      "|The Legend of Zelda: A Link to the Past         |1991           |4.61        |\n",
      "|Super Mario Kart                                |1992           |8.76        |\n",
      "|Star Fox                                        |1993           |2.99        |\n",
      "|Donkey Kong Country                             |1994           |9.3         |\n",
      "|Donkey Kong Country 2: Diddy's Kong Quest       |1995           |5.15        |\n",
      "|Mario Kart 64                                   |1996           |9.87        |\n",
      "|Final Fantasy VII                               |1997           |9.72        |\n",
      "|The Legend of Zelda: Ocarina of Time            |1998           |7.6         |\n",
      "|Gran Turismo 2                                  |1999           |9.49        |\n",
      "|Pokémon Crystal Version                         |2000           |6.39        |\n",
      "|Final Fantasy X                                 |2001           |8.05        |\n",
      "|Medal of Honor: Frontline                       |2002           |6.83        |\n",
      "|Need for Speed Underground                      |2003           |7.2         |\n",
      "|Halo 2                                          |2004           |8.49        |\n",
      "|Grand Theft Auto: Liberty City Stories          |2005           |7.69        |\n",
      "|Wii Sports                                      |2006           |82.53       |\n",
      "|Call of Duty 4: Modern Warfare                  |2007           |9.31        |\n",
      "|Pokémon Platinum Version                        |2008           |7.72        |\n",
      "|The Sims 3                                      |2009           |8.01        |\n",
      "|Halo: Reach                                     |2010           |9.86        |\n",
      "|The Elder Scrolls V: Skyrim                     |2011           |8.79        |\n",
      "|New Super Mario Bros. 2                         |2012           |9.9         |\n",
      "|Call of Duty: Ghosts                            |2013           |9.36        |\n",
      "|Call of Duty: Advanced Warfare                  |2014           |7.66        |\n",
      "|FIFA 16                                         |2015           |8.57        |\n",
      "|FIFA 17                                         |2016           |7.59        |\n",
      "|Phantasy Star Online 2 Episode 4: Deluxe Package|2017           |0.04        |\n",
      "|Imagine: Makeup Artist                          |2020           |0.29        |\n",
      "+------------------------------------------------+---------------+------------+\n",
      "\n"
     ]
    }
   ],
   "source": [
    "# Jogos mais vendidos por ano\n",
    "\n",
    "max_sales = df.groupBy('year_of_release').agg(max('global_sales').alias('max_sales'))\n",
    "top_sellers = df.join(max_sales, (df['year_of_release'] == max_sales['year_of_release']) & (df['global_sales'] == max_sales['max_sales']))\n",
    "top_sellers.select('name', df['year_of_release'], 'global_sales').orderBy('year_of_release').show(n=df.count(), truncate=False)"
   ]
  },
  {
   "cell_type": "code",
   "execution_count": 157,
   "metadata": {},
   "outputs": [
    {
     "name": "stdout",
     "output_type": "stream",
     "text": [
      "+--------------------------------------+------------------+\n",
      "|publisher                             |total_sales       |\n",
      "+--------------------------------------+------------------+\n",
      "|Nintendo                              |1788.8100064005703|\n",
      "|Electronic Arts                       |1116.9599984865636|\n",
      "|Activision                            |731.1599994562566 |\n",
      "|Sony Computer Entertainment           |606.4799995981157 |\n",
      "|Ubisoft                               |471.609999448061  |\n",
      "|Take-Two Interactive                  |403.8200003951788 |\n",
      "|THQ                                   |338.4399995431304 |\n",
      "|Konami Digital Entertainment          |282.3900001887232 |\n",
      "|Sega                                  |270.3500000219792 |\n",
      "|Namco Bandai Games                    |254.61999975703657|\n",
      "|Microsoft Game Studios                |248.31999900005758|\n",
      "|Capcom                                |200.0199995301664 |\n",
      "|Atari                                 |156.8300000745803 |\n",
      "|Warner Bros. Interactive Entertainment|151.78999934531748|\n",
      "|Square Enix                           |145.34000027179718|\n",
      "|Disney Interactive Studios            |117.37000021338463|\n",
      "|Eidos Interactive                     |98.64999991469085 |\n",
      "|LucasArts                             |85.82999975606799 |\n",
      "|Bethesda Softworks                    |85.04999930411577 |\n",
      "|Midway Games                          |69.6699997279793  |\n",
      "+--------------------------------------+------------------+\n",
      "only showing top 20 rows\n",
      "\n"
     ]
    }
   ],
   "source": [
    "total_sales = df.groupBy(vgsales['publisher']).agg(sum('global_sales').alias('total_sales')).\\\n",
    "orderBy('total_sales')\n",
    "total_sales.orderBy(total_sales['total_sales'].desc()).show(n=20, truncate=False)"
   ]
  },
  {
   "cell_type": "code",
   "execution_count": 95,
   "metadata": {},
   "outputs": [
    {
     "name": "stdout",
     "output_type": "stream",
     "text": [
      "+--------------------------------------+------------+------------------------------------+---------------+------+\n",
      "|publisher                             |global_sales|top_game                            |year_of_release|device|\n",
      "+--------------------------------------+------------+------------------------------------+---------------+------+\n",
      "|Nintendo                              |9.9         |Wii Sports                          |2006           |Wii   |\n",
      "|Microsoft Game Studios                |9.86        |Kinect Adventures!                  |2010           |X360  |\n",
      "|Sony Computer Entertainment           |9.72        |Gran Turismo 3: A-Spec              |2001           |PS2   |\n",
      "|Ubisoft                               |9.44        |Just Dance 3                        |2011           |Wii   |\n",
      "|Activision                            |9.36        |Call of Duty: Modern Warfare 3      |2011           |X360  |\n",
      "|Bethesda Softworks                    |8.79        |The Elder Scrolls V: Skyrim         |2011           |X360  |\n",
      "|Electronic Arts                       |8.57        |FIFA 16                             |2015           |PS4   |\n",
      "|Sega                                  |7.99        |Mario & Sonic at the Olympic Games  |2007           |Wii   |\n",
      "|SquareSoft                            |7.86        |Final Fantasy VIII                  |1999           |PS    |\n",
      "|Atari                                 |7.81        |Pac-Man                             |1982           |2600  |\n",
      "|Take-Two Interactive                  |7.69        |Grand Theft Auto V                  |2013           |PS3   |\n",
      "|505 Games                             |6.71        |Zumba Fitness                       |2010           |Wii   |\n",
      "|Capcom                                |6.3         |Street Fighter II: The World Warrior|1992           |SNES  |\n",
      "|GT Interactive                        |6.27        |Driver                              |1999           |PS    |\n",
      "|Konami Digital Entertainment          |6.05        |Metal Gear Solid 2: Sons of Liberty |2001           |PS2   |\n",
      "|Square Enix                           |5.95        |Final Fantasy XII                   |2006           |PS2   |\n",
      "|Sony Computer Entertainment Europe    |5.87        |The Last of Us                      |2013           |PS3   |\n",
      "|Virgin Interactive                    |5.82        |Resident Evil 2                     |1998           |PS    |\n",
      "|LucasArts                             |5.64        |LEGO Star Wars: The Complete Saga   |2007           |Wii   |\n",
      "|Warner Bros. Interactive Entertainment|5.48        |Batman: Arkham City                 |2011           |PS3   |\n",
      "+--------------------------------------+------------+------------------------------------+---------------+------+\n",
      "only showing top 20 rows\n",
      "\n"
     ]
    }
   ],
   "source": [
    "# Jogos mais vendidos mundialmente por empresa, com ano de lançamento e aparelho\n",
    "\n",
    "top_names = df.groupBy(vgsales['publisher']).\\\n",
    "agg({'global_sales': 'max', 'name': 'first', 'year_of_release': 'first', 'initiales': 'first'}).\\\n",
    "orderBy(desc('max(global_sales)'))\n",
    "\n",
    "top_names = top_names.select(\n",
    "    top_names['publisher'], \n",
    "    top_names['max(global_sales)'].alias('global_sales'), \n",
    "    top_names['first(name)'].alias('top_game'),\n",
    "    top_names['first(year_of_release)'].alias('year_of_release'),\n",
    "    top_names['first(initiales)'].alias('device')\n",
    ")\n",
    "\n",
    "top_names.show(n=20, truncate=False)"
   ]
  },
  {
   "cell_type": "code",
   "execution_count": 192,
   "metadata": {
    "scrolled": true
   },
   "outputs": [
    {
     "data": {
      "image/png": "[encoded data removed]",
      "text/plain": [
       "<Figure size 1080x648 with 1 Axes>"
      ]
     },
     "metadata": {},
     "output_type": "display_data"
    }
   ],
   "source": [
    "vendas_por_ano = df.filter(isnull('year_of_release') == False).\\\n",
    "                    groupBy('year_of_release').sum('global_sales').orderBy('year_of_release')\n",
    "vendas_por_ano = vendas_por_ano.select(\n",
    "                                vendas_por_ano['year_of_release'],\n",
    "                                vendas_por_ano['sum(global_sales)'].alias('vendas')).\\\n",
    "                                toPandas()\n",
    "\n",
    "\n",
    "fig, ax = plt.subplots(figsize=(15, 9))\n",
    "plt.bar(vendas_por_ano['year_of_release'], vendas_por_ano['vendas'])\n",
    "plt.xticks(rotation=45)\n",
    "\n",
    "plt.show()"
   ]
  },
  {
   "cell_type": "code",
   "execution_count": 227,
   "metadata": {},
   "outputs": [
    {
     "data": {
      "text/html": [
       "<div>\n",
       "<style scoped>\n",
       "    .dataframe tbody tr th:only-of-type {\n",
       "        vertical-align: middle;\n",
       "    }\n",
       "\n",
       "    .dataframe tbody tr th {\n",
       "        vertical-align: top;\n",
       "    }\n",
       "\n",
       "    .dataframe thead th {\n",
       "        text-align: right;\n",
       "    }\n",
       "</style>\n",
       "<table border=\"1\" class=\"dataframe\">\n",
       "  <thead>\n",
       "    <tr style=\"text-align: right;\">\n",
       "      <th></th>\n",
       "      <th>year_of_release</th>\n",
       "      <th>vendas_global</th>\n",
       "      <th>na_sales</th>\n",
       "      <th>eu_sales</th>\n",
       "      <th>jp_sales</th>\n",
       "    </tr>\n",
       "  </thead>\n",
       "  <tbody>\n",
       "    <tr>\n",
       "      <th>28</th>\n",
       "      <td>1980</td>\n",
       "      <td>11.38</td>\n",
       "      <td>10.59</td>\n",
       "      <td>0.67</td>\n",
       "      <td>0.00</td>\n",
       "    </tr>\n",
       "    <tr>\n",
       "      <th>12</th>\n",
       "      <td>1981</td>\n",
       "      <td>35.77</td>\n",
       "      <td>33.40</td>\n",
       "      <td>1.96</td>\n",
       "      <td>0.00</td>\n",
       "    </tr>\n",
       "    <tr>\n",
       "      <th>9</th>\n",
       "      <td>1982</td>\n",
       "      <td>28.86</td>\n",
       "      <td>26.92</td>\n",
       "      <td>1.65</td>\n",
       "      <td>0.00</td>\n",
       "    </tr>\n",
       "    <tr>\n",
       "      <th>27</th>\n",
       "      <td>1983</td>\n",
       "      <td>16.79</td>\n",
       "      <td>7.76</td>\n",
       "      <td>0.80</td>\n",
       "      <td>8.10</td>\n",
       "    </tr>\n",
       "    <tr>\n",
       "      <th>7</th>\n",
       "      <td>1984</td>\n",
       "      <td>50.36</td>\n",
       "      <td>33.28</td>\n",
       "      <td>2.10</td>\n",
       "      <td>14.27</td>\n",
       "    </tr>\n",
       "  </tbody>\n",
       "</table>\n",
       "</div>"
      ],
      "text/plain": [
       "   year_of_release  vendas_global  na_sales  eu_sales  jp_sales\n",
       "28            1980          11.38     10.59      0.67      0.00\n",
       "12            1981          35.77     33.40      1.96      0.00\n",
       "9             1982          28.86     26.92      1.65      0.00\n",
       "27            1983          16.79      7.76      0.80      8.10\n",
       "7             1984          50.36     33.28      2.10     14.27"
      ]
     },
     "execution_count": 227,
     "metadata": {},
     "output_type": "execute_result"
    }
   ],
   "source": [
    "# select the columns of interest and group by year_of_release\n",
    "sales_by_region_pd = df.filter(isnull('year_of_release') == False).\\\n",
    "                    groupBy('year_of_release').\\\n",
    "                    agg({'global_sales': 'sum', 'na_sales': 'sum', 'eu_sales': 'sum', 'jp_sales': 'sum'})\n",
    "\n",
    "# convert to Pandas DataFrame for plotting\n",
    "sales_by_region_pd = sales_by_region_pd.select(\n",
    "                                sales_by_region_pd['year_of_release'],\n",
    "                                sales_by_region_pd['sum(global_sales)'].alias('vendas_global'),\n",
    "                                sales_by_region_pd['sum(na_sales)'].alias('na_sales'),\n",
    "                                sales_by_region_pd['sum(eu_sales)'].alias('eu_sales'),\n",
    "                                sales_by_region_pd['sum(jp_sales)'].alias('jp_sales')).\\\n",
    "                                toPandas()\n",
    "\n",
    "\n",
    "sales_by_region_pd.sort_values('year_of_release').head()"
   ]
  },
  {
   "cell_type": "code",
   "execution_count": 234,
   "metadata": {},
   "outputs": [
    {
     "data": {
      "image/png": "[encoded data removed]",
      "text/plain": [
       "<Figure size 1080x648 with 1 Axes>"
      ]
     },
     "metadata": {},
     "output_type": "display_data"
    }
   ],
   "source": [
    "# plot all the sales columns\n",
    "sales_by_region_pd.plot(kind='line', figsize=(15, 9))\n",
    "\n",
    "# sort by year_of_release\n",
    "sales_by_region_pd = sales_by_region_pd.sort_values('year_of_release')\n",
    "\n",
    "\n",
    "#Clear the plot\n",
    "plt.clf()\n",
    "\n",
    "# plot all the sales columns in the same plot\n",
    "plt.plot(sales_by_region_pd['year_of_release'], sales_by_region_pd['vendas_global'], label='Global Sales')\n",
    "plt.plot(sales_by_region_pd['year_of_release'], sales_by_region_pd['na_sales'], label='NA Sales')\n",
    "plt.plot(sales_by_region_pd['year_of_release'], sales_by_region_pd['eu_sales'], label='EU Sales')\n",
    "plt.plot(sales_by_region_pd['year_of_release'], sales_by_region_pd['jp_sales'], label='JP Sales')\n",
    "plt.xticks(rotation=45)\n",
    "plt.legend()\n",
    "plt.show()"
   ]
  },
  {
   "cell_type": "code",
   "execution_count": 232,
   "metadata": {},
   "outputs": [
    {
     "data": {
      "text/html": [
       "<div>\n",
       "<style scoped>\n",
       "    .dataframe tbody tr th:only-of-type {\n",
       "        vertical-align: middle;\n",
       "    }\n",
       "\n",
       "    .dataframe tbody tr th {\n",
       "        vertical-align: top;\n",
       "    }\n",
       "\n",
       "    .dataframe thead th {\n",
       "        text-align: right;\n",
       "    }\n",
       "</style>\n",
       "<table border=\"1\" class=\"dataframe\">\n",
       "  <thead>\n",
       "    <tr style=\"text-align: right;\">\n",
       "      <th></th>\n",
       "      <th>year_of_release</th>\n",
       "      <th>vendas_global</th>\n",
       "      <th>na_sales</th>\n",
       "      <th>eu_sales</th>\n",
       "      <th>jp_sales</th>\n",
       "    </tr>\n",
       "  </thead>\n",
       "  <tbody>\n",
       "    <tr>\n",
       "      <th>28</th>\n",
       "      <td>1980</td>\n",
       "      <td>11.38</td>\n",
       "      <td>10.59</td>\n",
       "      <td>0.67</td>\n",
       "      <td>0.00</td>\n",
       "    </tr>\n",
       "    <tr>\n",
       "      <th>12</th>\n",
       "      <td>1981</td>\n",
       "      <td>35.77</td>\n",
       "      <td>33.40</td>\n",
       "      <td>1.96</td>\n",
       "      <td>0.00</td>\n",
       "    </tr>\n",
       "    <tr>\n",
       "      <th>9</th>\n",
       "      <td>1982</td>\n",
       "      <td>28.86</td>\n",
       "      <td>26.92</td>\n",
       "      <td>1.65</td>\n",
       "      <td>0.00</td>\n",
       "    </tr>\n",
       "    <tr>\n",
       "      <th>27</th>\n",
       "      <td>1983</td>\n",
       "      <td>16.79</td>\n",
       "      <td>7.76</td>\n",
       "      <td>0.80</td>\n",
       "      <td>8.10</td>\n",
       "    </tr>\n",
       "    <tr>\n",
       "      <th>7</th>\n",
       "      <td>1984</td>\n",
       "      <td>50.36</td>\n",
       "      <td>33.28</td>\n",
       "      <td>2.10</td>\n",
       "      <td>14.27</td>\n",
       "    </tr>\n",
       "  </tbody>\n",
       "</table>\n",
       "</div>"
      ],
      "text/plain": [
       "   year_of_release  vendas_global  na_sales  eu_sales  jp_sales\n",
       "28            1980          11.38     10.59      0.67      0.00\n",
       "12            1981          35.77     33.40      1.96      0.00\n",
       "9             1982          28.86     26.92      1.65      0.00\n",
       "27            1983          16.79      7.76      0.80      8.10\n",
       "7             1984          50.36     33.28      2.10     14.27"
      ]
     },
     "execution_count": 232,
     "metadata": {},
     "output_type": "execute_result"
    }
   ],
   "source": [
    "\n",
    "sales_by_region_pd.sort_values('year_of_release').head()"
   ]
  },
  {
   "cell_type": "code",
   "execution_count": null,
   "metadata": {},
   "outputs": [],
   "source": []
  }
 ],
 "metadata": {
  "kernelspec": {
   "display_name": "PySpark",
   "language": "python",
   "name": "pyspark"
  }
 },
 "nbformat": 4,
 "nbformat_minor": 2
}
